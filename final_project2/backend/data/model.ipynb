{
 "cells": [
  {
   "cell_type": "code",
   "execution_count": 1,
   "metadata": {},
   "outputs": [],
   "source": [
    "# import pandas as pd"
   ]
  },
  {
   "cell_type": "code",
   "execution_count": 9,
   "metadata": {},
   "outputs": [],
   "source": [
    "# data = pd.read_csv('cleaned.csv')\n",
    "# tornados_data = pd.read_csv('Tornadoes_SPC_1950to2015.csv')\n",
    "# json_data = pd.read_json('data.json')"
   ]
  },
  {
   "cell_type": "code",
   "execution_count": 6,
   "metadata": {},
   "outputs": [
    {
     "name": "stdout",
     "output_type": "stream",
     "text": [
      "   om    yr  mo  dy       date      time  tz  st  stf  stn  ...  fat  loss  \\\n",
      "0   1  1950   1   3   1/3/1950  11:00:00   3  MO   29    1  ...    0   6.0   \n",
      "1   2  1950   1   3   1/3/1950  11:55:00   3  IL   17    2  ...    0   5.0   \n",
      "2   3  1950   1   3   1/3/1950  16:00:00   3  OH   39    1  ...    0   4.0   \n",
      "3   4  1950   1  13  1/13/1950   5:25:00   3  AR    5    1  ...    1   3.0   \n",
      "4   5  1950   1  25  1/25/1950  19:30:00   3  MO   29    2  ...    0   5.0   \n",
      "\n",
      "   closs   slat   slon   elat   elon  len  wid  fc  \n",
      "0    0.0  38.77 -90.22  38.83 -90.03  9.5  150   0  \n",
      "1    0.0  39.10 -89.30  39.12 -89.23  3.6  130   0  \n",
      "2    0.0  40.88 -84.58   0.00   0.00  0.1   10   0  \n",
      "3    0.0  34.40 -94.37   0.00   0.00  0.6   17   0  \n",
      "4    0.0  37.60 -90.68  37.63 -90.65  2.3  300   0  \n",
      "\n",
      "[5 rows x 22 columns]\n"
     ]
    }
   ],
   "source": [
    "# # print(cleaned_data.head())\n",
    "# print(tornados_data.head())"
   ]
  },
  {
   "cell_type": "code",
   "execution_count": 10,
   "metadata": {},
   "outputs": [
    {
     "name": "stdout",
     "output_type": "stream",
     "text": [
      "Model Accuracy: 0.9844713890661562\n"
     ]
    }
   ],
   "source": [
    "# from sklearn.model_selection import train_test_split\n",
    "# from sklearn.ensemble import RandomForestClassifier\n",
    "# from sklearn.metrics import accuracy_score\n",
    "\n",
    "# # Split data into features (X) and target variable (y)\n",
    "# X = data.drop('fat', axis=1)\n",
    "# y = data['fat']\n",
    "# X_train, X_test, y_train, y_test = train_test_split(X, y, test_size=0.2, random_state=42)\n",
    "\n",
    "# # Example: Train a RandomForestClassifier\n",
    "# model = RandomForestClassifier()\n",
    "# model.fit(X_train, y_train)\n",
    "\n",
    "# # Example: Make predictions\n",
    "# y_pred = model.predict(X_test)\n",
    "\n",
    "# # Example: Evaluate the model\n",
    "# accuracy = accuracy_score(y_test, y_pred)\n",
    "# print(f'Model Accuracy: {accuracy}')\n"
   ]
  },
  {
   "cell_type": "code",
   "execution_count": 11,
   "metadata": {},
   "outputs": [
    {
     "data": {
      "text/plain": [
       "['Tornados_model.pkl']"
      ]
     },
     "execution_count": 11,
     "metadata": {},
     "output_type": "execute_result"
    }
   ],
   "source": [
    "# import joblib\n",
    "\n",
    "# # Example: Save the model\n",
    "# joblib.dump(model, 'Tornados_model.pkl')\n"
   ]
  }
 ],
 "metadata": {
  "kernelspec": {
   "display_name": ".venv",
   "language": "python",
   "name": "python3"
  },
  "language_info": {
   "codemirror_mode": {
    "name": "ipython",
    "version": 3
   },
   "file_extension": ".py",
   "mimetype": "text/x-python",
   "name": "python",
   "nbconvert_exporter": "python",
   "pygments_lexer": "ipython3",
   "version": "3.11.5"
  }
 },
 "nbformat": 4,
 "nbformat_minor": 2
}
